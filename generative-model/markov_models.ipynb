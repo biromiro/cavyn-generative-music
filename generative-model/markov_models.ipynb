{
 "cells": [
  {
   "cell_type": "code",
   "execution_count": 1,
   "metadata": {},
   "outputs": [],
   "source": [
    "import numpy as np\n",
    "import pretty_midi\n",
    "import music21 as m21\n",
    "import os\n",
    "import copy\n",
    "import Levenshtein as lev\n",
    "from io import StringIO\n",
    "import sys\n",
    "import pickle\n",
    "import random"
   ]
  },
  {
   "cell_type": "code",
   "execution_count": 2,
   "metadata": {},
   "outputs": [],
   "source": [
    "class Measure:\n",
    "    def __init__(self, measure, instrument):\n",
    "        self.measure = measure\n",
    "        self.instrument = instrument\n",
    "    \n",
    "    def __repr__(self):\n",
    "        return f'Measure of {self.instrument}'"
   ]
  },
  {
   "cell_type": "code",
   "execution_count": 67,
   "metadata": {},
   "outputs": [],
   "source": [
    "path ='../game/data/base'"
   ]
  },
  {
   "cell_type": "code",
   "execution_count": 68,
   "metadata": {},
   "outputs": [],
   "source": [
    "# read a midi file and load it into a music21 object\n",
    "def load(file_path):\n",
    "    return m21.converter.parse(os.path.join(path, file_path))"
   ]
  },
  {
   "cell_type": "code",
   "execution_count": 69,
   "metadata": {},
   "outputs": [
    {
     "name": "stdout",
     "output_type": "stream",
     "text": [
      "4-17 - Summoned Beast Battle (extended).mid\n"
     ]
    }
   ],
   "source": [
    "songs = []\n",
    "for file in os.listdir(path):\n",
    "    print(file)\n",
    "    songs.append(load(file))\n",
    "    break"
   ]
  },
  {
   "cell_type": "code",
   "execution_count": 70,
   "metadata": {},
   "outputs": [],
   "source": [
    "orig_song = songs[0]"
   ]
  },
  {
   "cell_type": "code",
   "execution_count": 71,
   "metadata": {},
   "outputs": [],
   "source": [
    "midi_tracks = m21.midi.translate.streamHierarchyToMidiTracks(orig_song)\n",
    "midi_tracks"
   ]
  },
  {
   "cell_type": "code",
   "execution_count": null,
   "metadata": {},
   "outputs": [],
   "source": [
    "instruments = [part.partAbbreviation for part in m21.instrument.partitionByInstrument(orig_song).parts]"
   ]
  },
  {
   "cell_type": "code",
   "execution_count": null,
   "metadata": {},
   "outputs": [
    {
     "data": {
      "text/plain": [
       "['Pno']"
      ]
     },
     "execution_count": 43,
     "metadata": {},
     "output_type": "execute_result"
    }
   ],
   "source": [
    "instruments"
   ]
  },
  {
   "cell_type": "code",
   "execution_count": null,
   "metadata": {},
   "outputs": [],
   "source": [
    "instrument_association = {\n",
    "    'Str': m21.instrument.StringInstrument(),\n",
    "    'Hp': m21.instrument.Harp(),\n",
    "    'Hn': m21.instrument.Horn(),\n",
    "    'Timp': m21.instrument.Timpani(),\n",
    "    'Ch': m21.instrument.Choir(),\n",
    "    'Fl': m21.instrument.Flute(),\n",
    "    'Ob': m21.instrument.Oboe(),\n",
    "    'Cl': m21.instrument.Clarinet(),\n",
    "    'Bn': m21.instrument.Bassoon(),\n",
    "    'Sax': m21.instrument.Saxophone(),\n",
    "    'Tp': m21.instrument.Trumpet(),\n",
    "    'Tbn': m21.instrument.Trombone(),\n",
    "    'Tba': m21.instrument.Tuba(),\n",
    "    'Perc': m21.instrument.Percussion(),\n",
    "    'Vln': m21.instrument.Violin(),\n",
    "    'Vla': m21.instrument.Viola(),\n",
    "    'Pno': m21.instrument.Piano(),\n",
    "    # None is for the case where the instrument is not specified\n",
    "    # and will use any kind of percussion instrument\n",
    "    None: m21.instrument.Percussion()\n",
    "}"
   ]
  },
  {
   "cell_type": "code",
   "execution_count": null,
   "metadata": {},
   "outputs": [],
   "source": [
    "measures = {}\n",
    "for index, inst in enumerate(m21.instrument.partitionByInstrument(orig_song).parts):\n",
    "    inst.makeMeasures(inPlace=True)\n",
    "    inst.makeTies(inPlace=True)\n",
    "    inst.stripTies(inPlace=True, matchByPitch=True)\n",
    "    if (inst.partAbbreviation == 'Hn'):\n",
    "        inst.show('text')\n",
    "    for measure in inst.getElementsByClass(m21.stream.Measure):\n",
    "        \n",
    "        if measure.offset not in measures:\n",
    "            measures[measure.offset] = []\n",
    "        while len(measures[measure.offset]) <= index:\n",
    "            measures[measure.offset].append(None)\n",
    "        measures[measure.offset][index] = Measure(measure, inst.partAbbreviation)"
   ]
  },
  {
   "cell_type": "code",
   "execution_count": null,
   "metadata": {},
   "outputs": [
    {
     "data": {
      "text/plain": [
       "{0: 1}"
      ]
     },
     "execution_count": 56,
     "metadata": {},
     "output_type": "execute_result"
    }
   ],
   "source": [
    "def add_measure(song_, offset):\n",
    "    # get the number of measures in the song\n",
    "    measure_num = len(song_.parts[0].getElementsByClass(m21.stream.Measure))\n",
    "    measures_in_order = measures[offset]\n",
    "    for index, measure in enumerate(measures_in_order):\n",
    "        if measure is None:\n",
    "            continue\n",
    "        if index == 0 and measure_num == 0:\n",
    "            parts[index].insert(0, instrument_association[instrument])\n",
    "        newMeasure = copy.deepcopy(measure.measure)\n",
    "        parts[index].insert(measure_num * 4, newMeasure)\n",
    "    return song_\n",
    "\n",
    "song = m21.stream.Score()\n",
    "parts = [m21.stream.Part() for _ in range(len(instrument_association))]\n",
    "for index, instrument in enumerate(instruments):\n",
    "    song.insert(0, parts[index])\n",
    "\n",
    "add_measure(song, 0)\n",
    "song = m21.midi.translate.prepareStreamForMidi(song)\n",
    "tup = m21.midi.translate.channelInstrumentData(song)\n",
    "# get all midi events from the song\n",
    "song.makeMeasures(inPlace=True)\n",
    "midi_tracks = m21.midi.translate.streamHierarchyToMidiTracks(song)\n",
    "midi_events = [midi_track.events for midi_track in midi_tracks]\n",
    "tup[0]\n"
   ]
  },
  {
   "cell_type": "code",
   "execution_count": null,
   "metadata": {},
   "outputs": [
    {
     "data": {
      "text/plain": [
       "500000"
      ]
     },
     "execution_count": 57,
     "metadata": {},
     "output_type": "execute_result"
    }
   ],
   "source": [
    "int.from_bytes(midi_events[0][1].data)"
   ]
  },
  {
   "cell_type": "code",
   "execution_count": null,
   "metadata": {},
   "outputs": [],
   "source": [
    "inv_map = {v: k for k, v in tup[0].items()}"
   ]
  },
  {
   "cell_type": "code",
   "execution_count": null,
   "metadata": {},
   "outputs": [],
   "source": [
    "measures_list_ = list(measures.values())"
   ]
  },
  {
   "cell_type": "code",
   "execution_count": null,
   "metadata": {},
   "outputs": [
    {
     "data": {
      "text/plain": [
       "4"
      ]
     },
     "execution_count": 53,
     "metadata": {},
     "output_type": "execute_result"
    }
   ],
   "source": [
    "idx = 0\n",
    "for index, measure in enumerate(measures_list_):\n",
    "    idx = index\n",
    "    if len(measure) != len(instruments):\n",
    "        break\n",
    "\n",
    "idx"
   ]
  },
  {
   "cell_type": "code",
   "execution_count": null,
   "metadata": {},
   "outputs": [],
   "source": [
    "measures_list = measures_list_[:idx]"
   ]
  },
  {
   "cell_type": "code",
   "execution_count": null,
   "metadata": {},
   "outputs": [
    {
     "name": "stdout",
     "output_type": "stream",
     "text": [
      "Calculating similarity for measure 0\n",
      "\n",
      "Calculating similarity for measure 1\n",
      "\n",
      "Calculating similarity for measure 2\n",
      "\n",
      "Calculating similarity for measure 3\n",
      "\n",
      "Calculating similarity for measure 4\n",
      "\n"
     ]
    },
    {
     "data": {
      "text/plain": [
       "array([[1.        , 0.00129032, 0.00122399, 0.00107527, 0.00146199],\n",
       "       [0.00129032, 1.        , 0.00332226, 0.0030581 , 0.0030303 ],\n",
       "       [0.00122399, 0.00332226, 1.        , 0.00344828, 0.0025974 ],\n",
       "       [0.00107527, 0.0030581 , 0.00344828, 1.        , 0.00207039],\n",
       "       [0.00146199, 0.0030303 , 0.0025974 , 0.00207039, 1.        ]])"
      ]
     },
     "execution_count": 61,
     "metadata": {},
     "output_type": "execute_result"
    }
   ],
   "source": [
    "# generate a similarity matrix for the measures\n",
    "similarity_matrix = np.zeros((len(measures_list), len(measures_list)))\n",
    "for i in range(len(measures_list)):\n",
    "    print(f'Calculating similarity for measure {i}\\n')\n",
    "    for j in range(len(measures_list)):\n",
    "        if i == j:\n",
    "            similarity_matrix[i][j] = 1\n",
    "            continue\n",
    "        if i > j:\n",
    "            similarity_matrix[i][j] = similarity_matrix[j][i]\n",
    "            continue\n",
    "        # calculate the similarity between two measures\n",
    "        # by calculating the levenstein distance between\n",
    "        # the two measures in every instrument \n",
    "        # and then averaging the distance\n",
    "        # to do so, we need to convert the measures to strings\n",
    "        # and then calculate the levenstein distance\n",
    "        # between the two strings\n",
    "        measure1 = measures_list[i]\n",
    "        measure2 = measures_list[j]\n",
    "        if len(measure1) < len(measure2):\n",
    "            measure1, measure2 = measure2, measure1\n",
    "        total_distance = 1\n",
    "        for index, measure in enumerate(measure1):\n",
    "            orig_measure = measure\n",
    "            measure_to_compare = measure2[index] if index < len(measure2) else None\n",
    "            old_stdout = sys.stdout  \n",
    "\n",
    "            result = StringIO()\n",
    "            sys.stdout = result\n",
    "            orig_measure.measure.show('text') if orig_measure is not None else None\n",
    "            orig_measure_string = result.getvalue()\n",
    "            \n",
    "            result = StringIO()\n",
    "            sys.stdout = result\n",
    "            measure_to_compare.measure.show('text') if measure_to_compare is not None else None\n",
    "            measure_to_compare_string = result.getvalue()\n",
    "\n",
    "            sys.stdout = old_stdout\n",
    "            \n",
    "            if orig_measure is None or measure_to_compare is None:\n",
    "                continue\n",
    "            if orig_measure is None:\n",
    "                total_distance += len()\n",
    "                continue\n",
    "            if measure_to_compare is None:\n",
    "                total_distance += len()\n",
    "                continue\n",
    "            \n",
    "            total_distance += lev.distance(orig_measure_string, measure_to_compare_string)\n",
    "        similarity_matrix[i][j] = total_distance\n",
    "\n",
    "# the similarity matrix now has the distance between every measure\n",
    "# transform the distance in each cell to a similarity\n",
    "# by subtracting the distance from the maximum distance\n",
    "# and then dividing by the maximum distance\n",
    "similarity_matrix = 1 / similarity_matrix\n",
    "similarity_matrix\n",
    "        "
   ]
  },
  {
   "cell_type": "code",
   "execution_count": null,
   "metadata": {},
   "outputs": [
    {
     "data": {
      "text/plain": [
       "0"
      ]
     },
     "execution_count": 62,
     "metadata": {},
     "output_type": "execute_result"
    }
   ],
   "source": [
    "# get the most similar measure to the first measure\n",
    "# by getting the index of the maximum value in the first row\n",
    "# and then getting the measure at that index\n",
    "most_similar_measure_index = np.argmax(similarity_matrix[0])\n",
    "most_similar_measure_index"
   ]
  },
  {
   "cell_type": "code",
   "execution_count": null,
   "metadata": {},
   "outputs": [],
   "source": [
    "# convert the similarity matrix to a transition matrix\n",
    "# where each cell in row i is the probability to transition from measure i to measure j\n",
    "# and the probability to transition to the same measure is 0\n",
    "# the most likely transition should be to the next measure\n",
    "# so the probability to transition to the next measure should be the highest\n",
    "# and the rest of the probabilities should be distributed according to the similarity to the next measure\n",
    "# so the probability to transition from measure i to measure j should be the similarity between measure i + 1 and measure j\n",
    "\n",
    "# the transition matrix should be a square matrix with the same size as the similarity matrix\n",
    "transition_matrix = np.zeros((len(similarity_matrix), len(similarity_matrix)))\n",
    "for i in range(len(similarity_matrix)):\n",
    "    for j in range(len(similarity_matrix)):\n",
    "        if i == j:\n",
    "            continue\n",
    "        transition_matrix[i][j] = similarity_matrix[j][i + 1]  if i + 1 < len(similarity_matrix) else similarity_matrix[j][0]\n",
    "    transition_matrix[i] = transition_matrix[i] / np.sum(transition_matrix[i])\n",
    "\n"
   ]
  },
  {
   "cell_type": "code",
   "execution_count": null,
   "metadata": {},
   "outputs": [
    {
     "data": {
      "text/plain": [
       "array([[0.        , 0.99067707, 0.00329129, 0.00302959, 0.00300205],\n",
       "       [0.00121516, 0.        , 0.9927828 , 0.00342339, 0.00257866],\n",
       "       [0.00106864, 0.00303925, 0.        , 0.99383448, 0.00205763],\n",
       "       [0.0014517 , 0.00300897, 0.00257912, 0.        , 0.99296022],\n",
       "       [0.99642326, 0.00128571, 0.00121961, 0.00107142, 0.        ]])"
      ]
     },
     "execution_count": 64,
     "metadata": {},
     "output_type": "execute_result"
    }
   ],
   "source": [
    "transition_matrix"
   ]
  },
  {
   "cell_type": "code",
   "execution_count": null,
   "metadata": {},
   "outputs": [],
   "source": [
    "# save the transition matrix to a file\n",
    "np.savetxt('transition_matrix.csv', transition_matrix, delimiter=',')"
   ]
  },
  {
   "cell_type": "code",
   "execution_count": null,
   "metadata": {},
   "outputs": [],
   "source": [
    "# load the transition matrix from a file\n",
    "transition_matrix = np.loadtxt('transition_matrix.csv', delimiter=',')"
   ]
  },
  {
   "cell_type": "code",
   "execution_count": null,
   "metadata": {},
   "outputs": [],
   "source": [
    "def new_add_measure(song_, previous_index):\n",
    "    # get the number of measures in the song\n",
    "    measure_num = len(song_.parts[0].getElementsByClass(m21.stream.Measure))\n",
    "    # use the transition matrix to get the next measure\n",
    "    next_measure_index = np.random.choice(len(transition_matrix[previous_index]), p=transition_matrix[previous_index])\n",
    "    measures_in_order = measures_list[next_measure_index]\n",
    "    for index, measure in enumerate(measures_in_order):\n",
    "        if measure is None:\n",
    "            continue\n",
    "        if index == 0 and measure_num == 0:\n",
    "            parts[index].insert(0, instrument_association[instrument])\n",
    "        newMeasure = copy.deepcopy(measure.measure)\n",
    "        parts[index].insert(measure_num * 4, newMeasure)\n",
    "    return song_, next_measure_index"
   ]
  },
  {
   "cell_type": "code",
   "execution_count": null,
   "metadata": {},
   "outputs": [
    {
     "name": "stdout",
     "output_type": "stream",
     "text": [
      "Added measure 1\n",
      "Added measure 2\n",
      "Added measure 3\n",
      "Added measure 4\n",
      "Added measure 0\n"
     ]
    },
    {
     "data": {
      "text/plain": [
       "'test.mid'"
      ]
     },
     "execution_count": 66,
     "metadata": {},
     "output_type": "execute_result"
    }
   ],
   "source": [
    "song = m21.stream.Score()\n",
    "parts = [m21.stream.Part() for _ in range(len(instrument_association))]\n",
    "for index, instrument in enumerate(instruments):\n",
    "    song.insert(0, parts[index])\n",
    "\n",
    "current_new_measure = 0\n",
    "for i in range(len(measures_list)):\n",
    "    song, current_new_measure = new_add_measure(song, current_new_measure)\n",
    "    print(f'Added measure {current_new_measure}')\n",
    "song.write('midi', fp='test.mid')"
   ]
  },
  {
   "cell_type": "code",
   "execution_count": null,
   "metadata": {},
   "outputs": [],
   "source": [
    "# write measures_list to a file with pickle\n",
    "with open('measures_list.pkl', 'wb') as f:\n",
    "    pickle.dump(measures_list, f)"
   ]
  },
  {
   "cell_type": "code",
   "execution_count": null,
   "metadata": {},
   "outputs": [],
   "source": [
    "# read measures_list from a file with pickle\n",
    "with open('measures_list.pkl', 'rb') as f:\n",
    "    measures_list = pickle.load(f)"
   ]
  },
  {
   "cell_type": "code",
   "execution_count": null,
   "metadata": {},
   "outputs": [
    {
     "data": {
      "text/plain": [
       "352"
      ]
     },
     "execution_count": 35,
     "metadata": {},
     "output_type": "execute_result"
    }
   ],
   "source": [
    "len(measures_list)"
   ]
  }
 ],
 "metadata": {
  "kernelspec": {
   "display_name": "Python 3",
   "language": "python",
   "name": "python3"
  },
  "language_info": {
   "codemirror_mode": {
    "name": "ipython",
    "version": 3
   },
   "file_extension": ".py",
   "mimetype": "text/x-python",
   "name": "python",
   "nbconvert_exporter": "python",
   "pygments_lexer": "ipython3",
   "version": "3.11.0"
  },
  "orig_nbformat": 4
 },
 "nbformat": 4,
 "nbformat_minor": 2
}
